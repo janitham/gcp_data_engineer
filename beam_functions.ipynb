{
 "cells": [
  {
   "cell_type": "markdown",
   "id": "55bc3d4d-e5c3-44b1-8669-c2903cc9d606",
   "metadata": {},
   "source": [
    "# Sample "
   ]
  },
  {
   "cell_type": "code",
   "execution_count": 5,
   "id": "df84bd5d-383e-4881-8951-4019138bb831",
   "metadata": {
    "tags": []
   },
   "outputs": [],
   "source": [
    "import apache_beam as beam\n",
    "from apache_beam import Create, Map, Pipeline"
   ]
  },
  {
   "cell_type": "code",
   "execution_count": 6,
   "id": "080fa8a8-c36e-4aff-8523-17abe7a80b4f",
   "metadata": {
    "tags": []
   },
   "outputs": [],
   "source": [
    "p1 = apache_beam.Pipeline()"
   ]
  },
  {
   "cell_type": "code",
   "execution_count": 8,
   "id": "62be5556-e19a-494d-b5f1-9736bfa11482",
   "metadata": {
    "tags": []
   },
   "outputs": [],
   "source": [
    "cubs = ( p1\n",
    "           | \"Create Element\" >> Create(range(10))\n",
    "           | \"Find Cube\" >> Map(lambda x: x*3)\n",
    "           | \"Print\" >> Map(print)\n",
    "       )"
   ]
  },
  {
   "cell_type": "code",
   "execution_count": 9,
   "id": "d5fe053e-d3c7-4083-9153-eb664ee817b1",
   "metadata": {
    "tags": []
   },
   "outputs": [
    {
     "name": "stdout",
     "output_type": "stream",
     "text": [
      "0\n",
      "3\n",
      "6\n",
      "9\n",
      "12\n",
      "15\n",
      "18\n",
      "21\n",
      "24\n",
      "27\n"
     ]
    },
    {
     "data": {
      "text/plain": [
       "<apache_beam.runners.portability.fn_api_runner.fn_runner.RunnerResult at 0x7f4b0f521270>"
      ]
     },
     "execution_count": 9,
     "metadata": {},
     "output_type": "execute_result"
    }
   ],
   "source": [
    "p1.run()"
   ]
  },
  {
   "cell_type": "code",
   "execution_count": 12,
   "id": "285717cb-8b1a-4da8-992b-ac667a448b47",
   "metadata": {
    "tags": []
   },
   "outputs": [
    {
     "name": "stdout",
     "output_type": "stream",
     "text": [
      "3\n",
      "6\n",
      "9\n",
      "HELLO\n",
      "WORLD\n",
      "0\n",
      "3\n",
      "6\n",
      "9\n",
      "12\n",
      "15\n",
      "18\n",
      "21\n",
      "24\n",
      "27\n"
     ]
    },
    {
     "data": {
      "text/plain": [
       "<apache_beam.runners.portability.fn_api_runner.fn_runner.RunnerResult at 0x7f4b0ed91270>"
      ]
     },
     "execution_count": 12,
     "metadata": {},
     "output_type": "execute_result"
    }
   ],
   "source": [
    "p1 = apache_beam.Pipeline()\n",
    "cubs = ( p1\n",
    "           | \"Create Element\" >> Create([\"Hello\", \"World\"])\n",
    "           | \"Uppercase\" >> Map(lambda x: x.upper())\n",
    "           | \"Print\" >> Map(print)\n",
    "       )\n",
    "p1.run()"
   ]
  },
  {
   "cell_type": "markdown",
   "id": "0db4a132-ba36-4585-971b-efc19f2effe6",
   "metadata": {
    "tags": []
   },
   "source": [
    "# Create"
   ]
  },
  {
   "cell_type": "code",
   "execution_count": 92,
   "id": "71303e75-3242-4b9d-a51f-3292a0bf6829",
   "metadata": {
    "tags": []
   },
   "outputs": [
    {
     "name": "stdout",
     "output_type": "stream",
     "text": [
      "3\n",
      "6\n",
      "9\n"
     ]
    },
    {
     "data": {
      "text/plain": [
       "<apache_beam.runners.portability.fn_api_runner.fn_runner.RunnerResult at 0x7f4b0a442ce0>"
      ]
     },
     "execution_count": 92,
     "metadata": {},
     "output_type": "execute_result"
    }
   ],
   "source": [
    "p1 = apache_beam.Pipeline()\n",
    "cubs = ( p1\n",
    "           | \"Create Element\" >> Create([1,2,3])\n",
    "           | \"Find Cube\" >> Map(lambda x: x*3)\n",
    "           | \"Print\" >> Map(print)\n",
    "       )\n",
    "p1.run()"
   ]
  },
  {
   "cell_type": "code",
   "execution_count": 93,
   "id": "b22d057a-c06f-4711-a1d3-c1ee3ac155e4",
   "metadata": {
    "tags": []
   },
   "outputs": [
    {
     "name": "stdout",
     "output_type": "stream",
     "text": [
      "Bar\n",
      "world\n"
     ]
    },
    {
     "data": {
      "text/plain": [
       "<apache_beam.runners.portability.fn_api_runner.fn_runner.RunnerResult at 0x7f4b0af2fc40>"
      ]
     },
     "execution_count": 93,
     "metadata": {},
     "output_type": "execute_result"
    }
   ],
   "source": [
    "p1 = apache_beam.Pipeline()\n",
    "cubs = ( p1\n",
    "           | \"Create Element\" >> Create({\"foo\": \"Bar\", \"hello\": \"world\"})\n",
    "           | \"Key of the dict\" >> Map(lambda x: x[1])\n",
    "           | \"Print\" >> Map(print)\n",
    "       )\n",
    "p1.run()"
   ]
  },
  {
   "cell_type": "code",
   "execution_count": 23,
   "id": "5a1d40a4-2a2a-4768-814f-cd5ddf5750a6",
   "metadata": {
    "tags": []
   },
   "outputs": [
    {
     "name": "stdout",
     "output_type": "stream",
     "text": [
      "8\n",
      "2\n",
      "4\n",
      "6\n",
      "1\n",
      "3\n",
      "5\n",
      "7\n"
     ]
    },
    {
     "data": {
      "text/plain": [
       "<apache_beam.runners.portability.fn_api_runner.fn_runner.RunnerResult at 0x7f4b0f0d15a0>"
      ]
     },
     "execution_count": 23,
     "metadata": {},
     "output_type": "execute_result"
    }
   ],
   "source": [
    "# multiple p collections to another p collection\n",
    "import apache_beam as beam\n",
    "from apache_beam import Create, Map, Pipeline\n",
    "\n",
    "p1 = apache_beam.Pipeline()\n",
    "\n",
    "even = {2, 4, 6, 8}\n",
    "odd  = {1, 3, 5, 7}\n",
    "\n",
    "even_p1  = p1 | \"Even No\" >> beam.Create(even)\n",
    "odd_p1   = p1 | \"Odd No\" >> beam.Create(odd)\n",
    "\n",
    "flat_out = (even_p1 , odd_p1) | beam.Flatten() | beam.Map(print)\n",
    "\n",
    "p1.run()"
   ]
  },
  {
   "cell_type": "markdown",
   "id": "6f435cee-1504-449d-841c-f1d8ae7e321b",
   "metadata": {
    "tags": []
   },
   "source": [
    "# Flattern"
   ]
  },
  {
   "cell_type": "code",
   "execution_count": 30,
   "id": "5373e600-98ba-40c9-833d-f29cf3e2cbd1",
   "metadata": {
    "tags": []
   },
   "outputs": [
    {
     "name": "stdout",
     "output_type": "stream",
     "text": [
      "1\n",
      "8\n",
      "27\n"
     ]
    },
    {
     "data": {
      "text/plain": [
       "<apache_beam.runners.portability.fn_api_runner.fn_runner.RunnerResult at 0x7f4b0c923760>"
      ]
     },
     "execution_count": 30,
     "metadata": {},
     "output_type": "execute_result"
    }
   ],
   "source": [
    "import apache_beam as beam\n",
    "from apache_beam import Create, Map, Pipeline\n",
    "\n",
    "def find_cube(x):\n",
    "    return x**3\n",
    "\n",
    "p1 = apache_beam.Pipeline()\n",
    "\n",
    "cubs = ( p1\n",
    "           | \"Create Element\" >> Create([1,2,3])\n",
    "           | \"Find Cube\" >> Map(find_cube)\n",
    "           | \"Print\" >> Map(print)\n",
    "       )\n",
    "p1.run()"
   ]
  },
  {
   "cell_type": "markdown",
   "id": "9d5d3f80-22c4-4ba5-b225-f73ff54e9d79",
   "metadata": {},
   "source": [
    "# FlatMap"
   ]
  },
  {
   "cell_type": "code",
   "execution_count": 31,
   "id": "71c4e9cd-b7ca-4301-8704-8c668d1547c4",
   "metadata": {
    "tags": []
   },
   "outputs": [
    {
     "name": "stdout",
     "output_type": "stream",
     "text": [
      "foo\n",
      "bar\n",
      "hello\n",
      "world\n"
     ]
    },
    {
     "data": {
      "text/plain": [
       "<apache_beam.runners.portability.fn_api_runner.fn_runner.RunnerResult at 0x7f4b0cc80940>"
      ]
     },
     "execution_count": 31,
     "metadata": {},
     "output_type": "execute_result"
    }
   ],
   "source": [
    "import apache_beam as beam\n",
    "from apache_beam import Create, Map, Pipeline,FlatMap\n",
    "\n",
    "def find_cube(x):\n",
    "    return x**3\n",
    "\n",
    "p1 = apache_beam.Pipeline()\n",
    "\n",
    "cubs = ( p1\n",
    "           | \"Create Element\" >> Create([\"foo bar\", \"hello world\"])\n",
    "           | \"string split\" >> FlatMap(str.split)\n",
    "           | \"Print\" >> Map(print)\n",
    "       )\n",
    "p1.run()"
   ]
  },
  {
   "cell_type": "markdown",
   "id": "0386680a-b02f-4932-81aa-ff896a9b4b2c",
   "metadata": {
    "tags": []
   },
   "source": [
    "# Filter"
   ]
  },
  {
   "cell_type": "code",
   "execution_count": 33,
   "id": "d1ad7ff9-2b34-4a44-b905-82149ff31f50",
   "metadata": {
    "tags": []
   },
   "outputs": [
    {
     "name": "stdout",
     "output_type": "stream",
     "text": [
      "0\n",
      "2\n",
      "4\n",
      "6\n",
      "8\n"
     ]
    },
    {
     "data": {
      "text/plain": [
       "<apache_beam.runners.portability.fn_api_runner.fn_runner.RunnerResult at 0x7f4b0cc2e950>"
      ]
     },
     "execution_count": 33,
     "metadata": {},
     "output_type": "execute_result"
    }
   ],
   "source": [
    "import apache_beam as beam\n",
    "from apache_beam import Create, Map, Pipeline, Filter\n",
    "\n",
    "p1 = apache_beam.Pipeline()\n",
    "\n",
    "cubs = ( p1\n",
    "           | \"Create Element\" >> Create(range(10))\n",
    "           | \"Even Filter\" >> Filter(lambda x: x%2==0)\n",
    "           | \"Print\" >> Map(print)\n",
    "       )\n",
    "\n",
    "p1.run()"
   ]
  },
  {
   "cell_type": "code",
   "execution_count": 34,
   "id": "20c94b3c-9d04-4309-b66f-5a4efc1e046b",
   "metadata": {
    "tags": []
   },
   "outputs": [
    {
     "name": "stdout",
     "output_type": "stream",
     "text": [
      "hello\n",
      "hey\n"
     ]
    },
    {
     "data": {
      "text/plain": [
       "<apache_beam.runners.portability.fn_api_runner.fn_runner.RunnerResult at 0x7f4b0c91ebc0>"
      ]
     },
     "execution_count": 34,
     "metadata": {},
     "output_type": "execute_result"
    }
   ],
   "source": [
    "import apache_beam as beam\n",
    "from apache_beam import Create, Map, Pipeline, Filter\n",
    "\n",
    "p1 = apache_beam.Pipeline()\n",
    "\n",
    "cubs = ( p1\n",
    "           | \"Create Element\" >> Create([\"hello\", \"world\", \"hey\"])\n",
    "           | \"Even Filter\" >> Filter(lambda x: x.startswith(\"h\"))\n",
    "           | \"Print\" >> Map(print)\n",
    "       )\n",
    "\n",
    "p1.run()"
   ]
  },
  {
   "cell_type": "markdown",
   "id": "0aaf0f49-e5d3-4a3a-9f35-02c367e92c74",
   "metadata": {},
   "source": [
    "# ParDo"
   ]
  },
  {
   "cell_type": "code",
   "execution_count": 39,
   "id": "a24b76f7-dd65-4916-8cfa-40adee643900",
   "metadata": {
    "tags": []
   },
   "outputs": [
    {
     "name": "stdout",
     "output_type": "stream",
     "text": [
      "foo\n",
      "bar\n"
     ]
    },
    {
     "data": {
      "text/plain": [
       "<apache_beam.runners.portability.fn_api_runner.fn_runner.RunnerResult at 0x7f4b0c681a80>"
      ]
     },
     "execution_count": 39,
     "metadata": {},
     "output_type": "execute_result"
    }
   ],
   "source": [
    "# Same like flatmap\n",
    "import apache_beam as beam\n",
    "from apache_beam import Create, Map, Pipeline, ParDo, Filter\n",
    "\n",
    "p1 = apache_beam.Pipeline()\n",
    "\n",
    "cubs = ( p1\n",
    "           | \"Create Element\" >> Create([\"foo bar\", \"hello world\"])\n",
    "           | \" Filter\" >> Filter(lambda x: x.startswith(\"f\"))\n",
    "           | \"string split\" >> ParDo(str.split)\n",
    "           | \"Print\" >> Map(print)\n",
    "       )\n",
    "p1.run()"
   ]
  },
  {
   "cell_type": "markdown",
   "id": "777d6319-07d1-41a7-8fae-3176cef329d4",
   "metadata": {},
   "source": [
    "# Keys, Values, String"
   ]
  },
  {
   "cell_type": "code",
   "execution_count": 47,
   "id": "0f417bb2-2a6e-4482-b940-281865aa2364",
   "metadata": {
    "tags": []
   },
   "outputs": [
    {
     "name": "stdout",
     "output_type": "stream",
     "text": [
      "foo\n",
      "hello\n"
     ]
    },
    {
     "data": {
      "text/plain": [
       "<apache_beam.runners.portability.fn_api_runner.fn_runner.RunnerResult at 0x7f4b0c5bd210>"
      ]
     },
     "execution_count": 47,
     "metadata": {},
     "output_type": "execute_result"
    }
   ],
   "source": [
    "import apache_beam as beam\n",
    "from apache_beam import Create, Map, Pipeline, ParDo, Filter\n",
    "\n",
    "p1 = apache_beam.Pipeline()\n",
    "\n",
    "cubs = ( p1\n",
    "           | \"Create Element\" >> Create({\"foo\": \"Bar\", \"hello\": \"world\"})\n",
    "           | \"Filter Keys\" >> beam.Keys()\n",
    "           | \"Print\" >> Map(print)\n",
    "       )\n",
    "p1.run()"
   ]
  },
  {
   "cell_type": "code",
   "execution_count": 44,
   "id": "7731dfb4-f149-4a01-a051-ba4d5daad796",
   "metadata": {
    "tags": []
   },
   "outputs": [
    {
     "name": "stdout",
     "output_type": "stream",
     "text": [
      "Bar\n"
     ]
    },
    {
     "data": {
      "text/plain": [
       "<apache_beam.runners.portability.fn_api_runner.fn_runner.RunnerResult at 0x7f4b0c68cf10>"
      ]
     },
     "execution_count": 44,
     "metadata": {},
     "output_type": "execute_result"
    }
   ],
   "source": [
    "import apache_beam as beam\n",
    "from apache_beam import Create, Map, Pipeline, ParDo, Filter\n",
    "\n",
    "p1 = apache_beam.Pipeline()\n",
    "\n",
    "cubs = ( p1\n",
    "           | \"Create Element\" >> Create({\"foo\": \"Bar\"})\n",
    "           | \"Filter Keys\" >> beam.Values()\n",
    "           | \"Print\" >> Map(print)\n",
    "       )\n",
    "p1.run()"
   ]
  },
  {
   "cell_type": "code",
   "execution_count": 49,
   "id": "9503f8d4-1108-41ac-a43a-0b1662fb7e30",
   "metadata": {
    "tags": []
   },
   "outputs": [
    {
     "name": "stdout",
     "output_type": "stream",
     "text": [
      "foo,Bar\n",
      "hello,world\n"
     ]
    },
    {
     "data": {
      "text/plain": [
       "<apache_beam.runners.portability.fn_api_runner.fn_runner.RunnerResult at 0x7f4b0c4cf460>"
      ]
     },
     "execution_count": 49,
     "metadata": {},
     "output_type": "execute_result"
    }
   ],
   "source": [
    "import apache_beam as beam\n",
    "from apache_beam import Create, Map, Pipeline, ParDo, Filter\n",
    "\n",
    "p1 = apache_beam.Pipeline()\n",
    "\n",
    "cubs = ( p1\n",
    "           | \"Create Element\" >> Create({\"foo\": \"Bar\", \"hello\": \"world\"})\n",
    "           | \"Strings Display\" >> beam.ToString.Kvs()\n",
    "           | \"Print\" >> Map(print)\n",
    "       )\n",
    "p1.run()"
   ]
  },
  {
   "cell_type": "code",
   "execution_count": 53,
   "id": "f28f30ce-7e61-4cb2-bb14-b348f2a5798e",
   "metadata": {
    "tags": []
   },
   "outputs": [
    {
     "name": "stdout",
     "output_type": "stream",
     "text": [
      "('foo', 'Bar')\n",
      "('hello', 'world')\n"
     ]
    },
    {
     "data": {
      "text/plain": [
       "<apache_beam.runners.portability.fn_api_runner.fn_runner.RunnerResult at 0x7f4b0c522380>"
      ]
     },
     "execution_count": 53,
     "metadata": {},
     "output_type": "execute_result"
    }
   ],
   "source": [
    "import apache_beam as beam\n",
    "from apache_beam import Create, Map, Pipeline, ParDo, Filter\n",
    "\n",
    "p1 = apache_beam.Pipeline()\n",
    "\n",
    "cubs = ( p1\n",
    "           | \"Create Element\" >> Create({\"foo\": \"Bar\" , \"hello\": \"world\"})\n",
    "           | \"Strings Display\" >> beam.ToString.Element()\n",
    "           | \"Print\" >> Map(print)\n",
    "       )\n",
    "p1.run()"
   ]
  },
  {
   "cell_type": "markdown",
   "id": "8c1096d2-4445-4fee-b83d-1e07ac03c43f",
   "metadata": {},
   "source": [
    "# KwSwap"
   ]
  },
  {
   "cell_type": "code",
   "execution_count": 56,
   "id": "ee352ecb-d167-45d6-9149-763e436edb51",
   "metadata": {
    "tags": []
   },
   "outputs": [
    {
     "name": "stdout",
     "output_type": "stream",
     "text": [
      "('Bar', 'foo')\n",
      "('world', 'hello')\n"
     ]
    },
    {
     "data": {
      "text/plain": [
       "<apache_beam.runners.portability.fn_api_runner.fn_runner.RunnerResult at 0x7f4b0c368ac0>"
      ]
     },
     "execution_count": 56,
     "metadata": {},
     "output_type": "execute_result"
    }
   ],
   "source": [
    "import apache_beam as beam\n",
    "from apache_beam import Create, Map, Pipeline\n",
    "\n",
    "p1 = apache_beam.Pipeline()\n",
    "\n",
    "cubs = ( p1\n",
    "           | \"Create Element\" >> Create({\"foo\": \"Bar\" , \"hello\": \"world\"})\n",
    "           | \"Kv Swap\" >> beam.KvSwap()\n",
    "           | \"Print\" >> Map(print)\n",
    "       )\n",
    "\n",
    "p1.run()"
   ]
  },
  {
   "cell_type": "markdown",
   "id": "d579c863-081a-40f0-b2df-b1e5b023f8a4",
   "metadata": {},
   "source": [
    "# Partition"
   ]
  },
  {
   "cell_type": "code",
   "execution_count": 58,
   "id": "118a018a-9ee4-4da3-8d9e-b34dcb5c03a6",
   "metadata": {
    "tags": []
   },
   "outputs": [
    {
     "name": "stdout",
     "output_type": "stream",
     "text": [
      "Requirement already satisfied: sympy in /jupyter/.kernels/apache-beam-2.56.0/lib/python3.10/site-packages (1.12)\n",
      "Requirement already satisfied: mpmath>=0.19 in /jupyter/.kernels/apache-beam-2.56.0/lib/python3.10/site-packages (from sympy) (1.3.0)\n",
      "Note: you may need to restart the kernel to use updated packages.\n"
     ]
    }
   ],
   "source": [
    "%pip install sympy"
   ]
  },
  {
   "cell_type": "code",
   "execution_count": 67,
   "id": "bdf9095a-a8da-4b31-8bc3-4d47734ba561",
   "metadata": {
    "tags": []
   },
   "outputs": [
    {
     "name": "stdout",
     "output_type": "stream",
     "text": [
      "1\n",
      "4\n",
      "6\n",
      "8\n",
      "9\n",
      "10\n",
      "12\n",
      "14\n",
      "15\n",
      "16\n",
      "18\n"
     ]
    },
    {
     "data": {
      "text/plain": [
       "<apache_beam.runners.portability.fn_api_runner.fn_runner.RunnerResult at 0x7f4b0b2f7b20>"
      ]
     },
     "execution_count": 67,
     "metadata": {},
     "output_type": "execute_result"
    }
   ],
   "source": [
    "import apache_beam as beam\n",
    "import sympy\n",
    "from apache_beam import Create, Map, Pipeline\n",
    "\n",
    "p1 = apache_beam.Pipeline()\n",
    "\n",
    "def is_prime_function(element, no_par):\n",
    "    return  1 if sympy.isprime(element) else 0\n",
    "\n",
    "is_prime = ( p1\n",
    "              | \"Create Element\" >> Create(range(1,20))\n",
    "              | \"Partitioning\" >> beam.Partition(is_prime_function, 2)\n",
    "              #| \"Print\" >> Map(print)\n",
    "           )\n",
    "\n",
    "#is_prime[1] | \"Print Prime Number\" >> Map(print)\n",
    "\n",
    "is_prime[0] | \"Print non Prime Number\" >> Map(print)\n",
    "\n",
    "p1.run()"
   ]
  },
  {
   "cell_type": "markdown",
   "id": "7e8e7e17-0a13-4d95-be0c-82558f7afda2",
   "metadata": {
    "tags": []
   },
   "source": [
    "# Regular Expression"
   ]
  },
  {
   "cell_type": "code",
   "execution_count": 70,
   "id": "8cf6d331-661b-4208-b8c8-41f96b9606b0",
   "metadata": {
    "tags": []
   },
   "outputs": [
    {
     "name": "stdout",
     "output_type": "stream",
     "text": [
      "23\n"
     ]
    },
    {
     "data": {
      "text/plain": [
       "<apache_beam.runners.portability.fn_api_runner.fn_runner.RunnerResult at 0x7f4b0b273e80>"
      ]
     },
     "execution_count": 70,
     "metadata": {},
     "output_type": "execute_result"
    }
   ],
   "source": [
    "import apache_beam as beam\n",
    "from apache_beam import Create, Map, Pipeline, ParDo, Filter\n",
    "\n",
    "p1 = apache_beam.Pipeline()\n",
    "\n",
    "cubs = ( p1\n",
    "           | \"Create Element\" >> Create([\"1\", \"23\", \"hello\", \"world\"])\n",
    "           | \"Regex\" >> beam.Regex.matches(\"\\d{2}\")\n",
    "           | \"Print\" >> Map(print)\n",
    "       )\n",
    "p1.run()"
   ]
  },
  {
   "cell_type": "markdown",
   "id": "66cc5259-1823-4857-b286-40702e06b558",
   "metadata": {
    "tags": []
   },
   "source": [
    "# Aggregation"
   ]
  },
  {
   "cell_type": "code",
   "execution_count": 74,
   "id": "2c06bd10-5577-47a8-8f6b-d5d2a5fe66f4",
   "metadata": {
    "tags": []
   },
   "outputs": [
    {
     "name": "stdout",
     "output_type": "stream",
     "text": [
      "4\n"
     ]
    },
    {
     "data": {
      "text/plain": [
       "<apache_beam.runners.portability.fn_api_runner.fn_runner.RunnerResult at 0x7f4b0b270a60>"
      ]
     },
     "execution_count": 74,
     "metadata": {},
     "output_type": "execute_result"
    }
   ],
   "source": [
    "import apache_beam as beam\n",
    "from apache_beam import Create, Pipeline\n",
    "\n",
    "p1 = apache_beam.Pipeline()\n",
    "\n",
    "cubs = ( p1\n",
    "           | \"Create Element\" >> Create([\"1\", \"23\", \"hello\", \"world\"])\n",
    "           | \"Regex\" >> beam.combiners.Count.Globally()\n",
    "           | \"Print\" >> Map(print)\n",
    "       )\n",
    "\n",
    "p1.run()"
   ]
  },
  {
   "cell_type": "code",
   "execution_count": 77,
   "id": "15d86109-6383-4dd3-9798-80781e494636",
   "metadata": {
    "tags": []
   },
   "outputs": [
    {
     "name": "stdout",
     "output_type": "stream",
     "text": [
      "('one', 4)\n",
      "('two', 6)\n"
     ]
    },
    {
     "data": {
      "text/plain": [
       "<apache_beam.runners.portability.fn_api_runner.fn_runner.RunnerResult at 0x7f4b0b1d53c0>"
      ]
     },
     "execution_count": 77,
     "metadata": {},
     "output_type": "execute_result"
    }
   ],
   "source": [
    "import apache_beam as beam\n",
    "from apache_beam import Create, Pipeline\n",
    "\n",
    "p1 = apache_beam.Pipeline()\n",
    "\n",
    "cubs = ( p1\n",
    "           | \"Create Element\" >> Create({\"one\":[1,3], \"two\":[2,4]})\n",
    "           | \"Regex\" >> beam.CombineValues(sum)\n",
    "           | \"Print\" >> Map(print)\n",
    "       )\n",
    "\n",
    "p1.run()"
   ]
  },
  {
   "cell_type": "code",
   "execution_count": 78,
   "id": "4bbd904e-acf2-4dec-a333-46a7ad7d26c7",
   "metadata": {
    "tags": []
   },
   "outputs": [
    {
     "name": "stdout",
     "output_type": "stream",
     "text": [
      "1\n",
      "2\n",
      "3\n",
      "4\n"
     ]
    },
    {
     "data": {
      "text/plain": [
       "<apache_beam.runners.portability.fn_api_runner.fn_runner.RunnerResult at 0x7f4b0b0ef1c0>"
      ]
     },
     "execution_count": 78,
     "metadata": {},
     "output_type": "execute_result"
    }
   ],
   "source": [
    "import apache_beam as beam\n",
    "from apache_beam import Create, Pipeline\n",
    "\n",
    "p1 = apache_beam.Pipeline()\n",
    "\n",
    "cubs = ( p1\n",
    "           | \"Create Element\" >> Create([1,2,3,2,3,4,1])\n",
    "           | \"Regex\" >> beam.Distinct()\n",
    "           | \"Print\" >> Map(print)\n",
    "       )\n",
    "\n",
    "p1.run()"
   ]
  },
  {
   "cell_type": "code",
   "execution_count": 82,
   "id": "3bebb437-c48e-4bab-8c1a-db46f74e8dfa",
   "metadata": {
    "tags": []
   },
   "outputs": [
    {
     "name": "stdout",
     "output_type": "stream",
     "text": [
      "[7, 2, 8, 13, 12]\n"
     ]
    },
    {
     "data": {
      "text/plain": [
       "<apache_beam.runners.portability.fn_api_runner.fn_runner.RunnerResult at 0x7f4b0b06b7c0>"
      ]
     },
     "execution_count": 82,
     "metadata": {},
     "output_type": "execute_result"
    }
   ],
   "source": [
    "import apache_beam as beam\n",
    "from apache_beam import Create, Pipeline\n",
    "\n",
    "p1 = apache_beam.Pipeline()\n",
    "\n",
    "cubs = ( p1\n",
    "           | \"Create Element\" >> Create(range(1,20))\n",
    "           | \"Regex\" >> beam.combiners.Sample.FixedSizeGlobally(5)\n",
    "           | \"Print\" >> Map(print)\n",
    "       )\n",
    "\n",
    "p1.run()"
   ]
  },
  {
   "cell_type": "code",
   "execution_count": 85,
   "id": "4769c2f9-5033-4107-b8c0-2b24cb099b6d",
   "metadata": {
    "tags": []
   },
   "outputs": [
    {
     "name": "stdout",
     "output_type": "stream",
     "text": [
      "190\n"
     ]
    },
    {
     "data": {
      "text/plain": [
       "<apache_beam.runners.portability.fn_api_runner.fn_runner.RunnerResult at 0x7f4b0ae85600>"
      ]
     },
     "execution_count": 85,
     "metadata": {},
     "output_type": "execute_result"
    }
   ],
   "source": [
    "import apache_beam as beam\n",
    "from apache_beam import Create, Pipeline\n",
    "\n",
    "p1 = apache_beam.Pipeline()\n",
    "\n",
    "cubs = ( p1\n",
    "           | \"Create Element\" >> Create(range(1,20))\n",
    "           | \"Sum\" >> beam.CombineGlobally(sum)\n",
    "           | \"Print\" >> Map(print)\n",
    "       )\n",
    "\n",
    "p1.run()"
   ]
  },
  {
   "cell_type": "code",
   "execution_count": 84,
   "id": "1761fd0e-895d-4254-afad-41daa60f596b",
   "metadata": {
    "tags": []
   },
   "outputs": [
    {
     "name": "stdout",
     "output_type": "stream",
     "text": [
      "1\n"
     ]
    },
    {
     "data": {
      "text/plain": [
       "<apache_beam.runners.portability.fn_api_runner.fn_runner.RunnerResult at 0x7f4b0b237160>"
      ]
     },
     "execution_count": 84,
     "metadata": {},
     "output_type": "execute_result"
    }
   ],
   "source": [
    "import apache_beam as beam\n",
    "from apache_beam import Create, Pipeline\n",
    "\n",
    "p1 = apache_beam.Pipeline()\n",
    "\n",
    "cubs = ( p1\n",
    "           | \"Create Element\" >> Create(range(1,20))\n",
    "           | \"Min\" >> beam.CombineGlobally(min)\n",
    "           | \"Print\" >> Map(print)\n",
    "       )\n",
    "\n",
    "p1.run()"
   ]
  },
  {
   "cell_type": "code",
   "execution_count": 87,
   "id": "5818e1db-707c-49e4-94b4-7715eeae54a7",
   "metadata": {
    "tags": []
   },
   "outputs": [
    {
     "name": "stdout",
     "output_type": "stream",
     "text": [
      "('foo', 3.5)\n",
      "('bar', 5.0)\n"
     ]
    },
    {
     "data": {
      "text/plain": [
       "<apache_beam.runners.portability.fn_api_runner.fn_runner.RunnerResult at 0x7f4b0af96200>"
      ]
     },
     "execution_count": 87,
     "metadata": {},
     "output_type": "execute_result"
    }
   ],
   "source": [
    "import apache_beam as beam\n",
    "from apache_beam import Create, Pipeline\n",
    "\n",
    "p1 = apache_beam.Pipeline()\n",
    "\n",
    "cubs = ( p1\n",
    "           | \"Create Element\" >> Create([(\"foo\",3),(\"foo\",4),(\"bar\",5)])\n",
    "           | \"Mean PerKey\" >> beam.combiners.Mean.PerKey()\n",
    "           | \"Print\" >> Map(print)\n",
    "       )\n",
    "\n",
    "p1.run()"
   ]
  },
  {
   "cell_type": "code",
   "execution_count": 88,
   "id": "24e947e4-8e48-47f2-ae17-984742c8c0f3",
   "metadata": {
    "tags": []
   },
   "outputs": [
    {
     "name": "stdout",
     "output_type": "stream",
     "text": [
      "[19, 18]\n"
     ]
    },
    {
     "data": {
      "text/plain": [
       "<apache_beam.runners.portability.fn_api_runner.fn_runner.RunnerResult at 0x7f4b0af2f940>"
      ]
     },
     "execution_count": 88,
     "metadata": {},
     "output_type": "execute_result"
    }
   ],
   "source": [
    "import apache_beam as beam\n",
    "from apache_beam import Create, Pipeline\n",
    "\n",
    "p1 = apache_beam.Pipeline()\n",
    "\n",
    "cubs = ( p1\n",
    "           | \"Create Element\" >> Create(range(1,20))\n",
    "           | \"Min\" >> beam.combiners.Top.Largest(2)\n",
    "           | \"Print\" >> Map(print)\n",
    "       )\n",
    "\n",
    "p1.run()"
   ]
  },
  {
   "cell_type": "code",
   "execution_count": 90,
   "id": "aec425fa-aa11-4a80-9d19-6897111340e9",
   "metadata": {
    "tags": []
   },
   "outputs": [
    {
     "name": "stdout",
     "output_type": "stream",
     "text": [
      "('foo', [4])\n",
      "('bar', [5])\n"
     ]
    },
    {
     "data": {
      "text/plain": [
       "<apache_beam.runners.portability.fn_api_runner.fn_runner.RunnerResult at 0x7f4b0a4abfd0>"
      ]
     },
     "execution_count": 90,
     "metadata": {},
     "output_type": "execute_result"
    }
   ],
   "source": [
    "import apache_beam as beam\n",
    "from apache_beam import Create, Pipeline\n",
    "\n",
    "p1 = apache_beam.Pipeline()\n",
    "\n",
    "cubs = ( p1\n",
    "           | \"Create Element\" >> Create([(\"foo\",3),(\"foo\",4),(\"bar\",5)])\n",
    "           | \"Mean PerKey\" >> beam.combiners.Top.LargestPerKey(1)\n",
    "           | \"Print\" >> Map(print)\n",
    "       )\n",
    "\n",
    "p1.run()"
   ]
  },
  {
   "cell_type": "code",
   "execution_count": 91,
   "id": "1d8ef55c-51c2-44ec-8181-7631f008c2bd",
   "metadata": {
    "tags": []
   },
   "outputs": [
    {
     "name": "stdout",
     "output_type": "stream",
     "text": [
      "('foo', 7)\n",
      "('bar', 5)\n"
     ]
    },
    {
     "data": {
      "text/plain": [
       "<apache_beam.runners.portability.fn_api_runner.fn_runner.RunnerResult at 0x7f4b0ae871f0>"
      ]
     },
     "execution_count": 91,
     "metadata": {},
     "output_type": "execute_result"
    }
   ],
   "source": [
    "import apache_beam as beam\n",
    "from apache_beam import Create, Pipeline\n",
    "\n",
    "p1 = apache_beam.Pipeline()\n",
    "\n",
    "cubs = ( p1\n",
    "           | \"Create Element\" >> Create([(\"foo\",3),(\"foo\",4),(\"bar\",5)])\n",
    "           | \"Sum PerKey\" >> beam.CombinePerKey(sum)\n",
    "           | \"Print\" >> Map(print)\n",
    "       )\n",
    "\n",
    "p1.run()"
   ]
  },
  {
   "cell_type": "code",
   "execution_count": null,
   "id": "30757184-b325-4832-bd8a-bfe7172fdb8a",
   "metadata": {},
   "outputs": [],
   "source": []
  }
 ],
 "metadata": {
  "environment": {
   "kernel": "apache-beam-2.56.0",
   "name": ".m121",
   "type": "gcloud",
   "uri": "us-docker.pkg.dev/deeplearning-platform-release/gcr.io/:m121"
  },
  "kernelspec": {
   "display_name": "Apache Beam 2.56.0 (Local)",
   "language": "python",
   "name": "apache-beam-2.56.0"
  },
  "language_info": {
   "codemirror_mode": {
    "name": "ipython",
    "version": 3
   },
   "file_extension": ".py",
   "mimetype": "text/x-python",
   "name": "python",
   "nbconvert_exporter": "python",
   "pygments_lexer": "ipython3",
   "version": "3.10.14"
  }
 },
 "nbformat": 4,
 "nbformat_minor": 5
}
